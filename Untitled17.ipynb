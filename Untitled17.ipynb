{
  "nbformat": 4,
  "nbformat_minor": 0,
  "metadata": {
    "colab": {
      "provenance": [],
      "toc_visible": true,
      "gpuType": "T4",
      "authorship_tag": "ABX9TyNxBjB2n0X5uiP6I67jjPyM",
      "include_colab_link": true
    },
    "kernelspec": {
      "name": "python3",
      "display_name": "Python 3"
    },
    "language_info": {
      "name": "python"
    },
    "accelerator": "GPU"
  },
  "cells": [
    {
      "cell_type": "markdown",
      "metadata": {
        "id": "view-in-github",
        "colab_type": "text"
      },
      "source": [
        "<a href=\"https://colab.research.google.com/github/shubham3032002/classification_Neural_network_using_pytorch/blob/main/Untitled17.ipynb\" target=\"_parent\"><img src=\"https://colab.research.google.com/assets/colab-badge.svg\" alt=\"Open In Colab\"/></a>"
      ]
    },
    {
      "cell_type": "code",
      "execution_count": 62,
      "metadata": {
        "id": "3RJY4yPaOG_k"
      },
      "outputs": [],
      "source": [
        "import torch\n",
        "import torch.nn as nn\n",
        "from torch.utils.data import DataLoader\n",
        "from torchvision import datasets,transforms\n",
        "import matplotlib.pyplot as plt\n",
        "import numpy as np"
      ]
    },
    {
      "cell_type": "markdown",
      "source": [
        "###Get data and convert to the tensor"
      ],
      "metadata": {
        "id": "jcWreXt2OmNX"
      }
    },
    {
      "cell_type": "code",
      "source": [
        "train_dataset=datasets.FashionMNIST(root=\"dataset\",train=True,transform=transforms.ToTensor(),download=True)\n",
        "test_dataset=datasets.FashionMNIST(root=\"dataset\",train=False,transform=transforms.ToTensor())"
      ],
      "metadata": {
        "id": "yiR0N53sOh0B"
      },
      "execution_count": 63,
      "outputs": []
    },
    {
      "cell_type": "code",
      "source": [
        "train_dataset.data.shape"
      ],
      "metadata": {
        "colab": {
          "base_uri": "https://localhost:8080/"
        },
        "id": "vnGVA8wbPS9Z",
        "outputId": "653192b9-ed6c-4f69-f5ad-b0055e449d60"
      },
      "execution_count": 64,
      "outputs": [
        {
          "output_type": "execute_result",
          "data": {
            "text/plain": [
              "torch.Size([60000, 28, 28])"
            ]
          },
          "metadata": {},
          "execution_count": 64
        }
      ]
    },
    {
      "cell_type": "code",
      "source": [
        "test_dataset.data.shape"
      ],
      "metadata": {
        "colab": {
          "base_uri": "https://localhost:8080/"
        },
        "id": "t07jLSfkPW4E",
        "outputId": "d2534c02-90a3-432c-dc5c-78ab6e781dbd"
      },
      "execution_count": 65,
      "outputs": [
        {
          "output_type": "execute_result",
          "data": {
            "text/plain": [
              "torch.Size([10000, 28, 28])"
            ]
          },
          "metadata": {},
          "execution_count": 65
        }
      ]
    },
    {
      "cell_type": "markdown",
      "source": [
        "converting data into batches"
      ],
      "metadata": {
        "id": "s3BSVKQaPuz8"
      }
    },
    {
      "cell_type": "code",
      "source": [
        "batch_size=64\n",
        "device='cuda' if torch.cuda.is_available() else 'cup'\n",
        "device"
      ],
      "metadata": {
        "colab": {
          "base_uri": "https://localhost:8080/",
          "height": 36
        },
        "id": "9GyN27kLPkTL",
        "outputId": "ddeeb521-bff9-435a-ea28-5e521ea6a502"
      },
      "execution_count": 66,
      "outputs": [
        {
          "output_type": "execute_result",
          "data": {
            "text/plain": [
              "'cuda'"
            ],
            "application/vnd.google.colaboratory.intrinsic+json": {
              "type": "string"
            }
          },
          "metadata": {},
          "execution_count": 66
        }
      ]
    },
    {
      "cell_type": "code",
      "source": [
        "train_loader=DataLoader(train_dataset,batch_size=batch_size,shuffle=True)\n",
        "test_loader=DataLoader(test_dataset,batch_size=batch_size,shuffle=False)\n"
      ],
      "metadata": {
        "id": "bE2HMOHzQBzR"
      },
      "execution_count": 67,
      "outputs": []
    },
    {
      "cell_type": "code",
      "source": [
        "len(list(train_loader))\n",
        ""
      ],
      "metadata": {
        "colab": {
          "base_uri": "https://localhost:8080/"
        },
        "id": "nfa1vfNYQrOf",
        "outputId": "7100e274-2e53-418d-98ad-1f669b66d8e6"
      },
      "execution_count": 68,
      "outputs": [
        {
          "output_type": "execute_result",
          "data": {
            "text/plain": [
              "938"
            ]
          },
          "metadata": {},
          "execution_count": 68
        }
      ]
    },
    {
      "cell_type": "code",
      "source": [
        "len(list(test_loader))"
      ],
      "metadata": {
        "colab": {
          "base_uri": "https://localhost:8080/"
        },
        "id": "SzTg3xuQQu3A",
        "outputId": "7de3dfcf-4ddb-4ce6-d0ca-6b00d963ebdf"
      },
      "execution_count": 69,
      "outputs": [
        {
          "output_type": "execute_result",
          "data": {
            "text/plain": [
              "157"
            ]
          },
          "metadata": {},
          "execution_count": 69
        }
      ]
    },
    {
      "cell_type": "markdown",
      "source": [
        "### build A Neural netowrk"
      ],
      "metadata": {
        "id": "F_D2IgGORDlh"
      }
    },
    {
      "cell_type": "code",
      "source": [
        "class NeuralNetwork(nn.Module):\n",
        "  def __init__(self,in_dim,n_hidden_1,n_hidden_2,n_hidden_3,n_hidden_4,out_dim):\n",
        "    super().__init__()\n",
        "    self.layer1=nn.Sequential(\n",
        "        nn.Linear(in_dim,n_hidden_1),\n",
        "        nn.ReLU(True)\n",
        "\n",
        "    )\n",
        "    self.layer2=nn.Sequential(\n",
        "        nn.Linear(n_hidden_1,n_hidden_2),\n",
        "        nn.ReLU(True)\n",
        "\n",
        "    )\n",
        "    self.layer3=nn.Sequential(\n",
        "        nn.Linear(n_hidden_2,n_hidden_3),\n",
        "        nn.ReLU(True)\n",
        "    )\n",
        "\n",
        "    self.layer4=nn.Sequential(\n",
        "        nn.Linear(n_hidden_3,n_hidden_4),\n",
        "        nn.ReLU(True)\n",
        "\n",
        "    )\n",
        "    self.layer5=nn.Sequential(\n",
        "        nn.Linear(n_hidden_4,out_dim),\n",
        "        nn.ReLU(True)\n",
        "\n",
        "    )\n",
        "\n",
        "  def forward(self,x):\n",
        "    x=self.layer1(x)\n",
        "    x=self.layer2(x)\n",
        "    x=self.layer3(x)\n",
        "    x=self.layer4(x)\n",
        "    x=self.layer5(x)\n",
        "    return x\n",
        "\n",
        "\n",
        "\n"
      ],
      "metadata": {
        "id": "qrVgA9xaRA5s"
      },
      "execution_count": 70,
      "outputs": []
    },
    {
      "cell_type": "markdown",
      "source": [
        "NN.sequential"
      ],
      "metadata": {
        "id": "ew4ckdqhToxv"
      }
    },
    {
      "cell_type": "code",
      "source": [
        "in_dim=28*28\n",
        "n_hidden_1=512\n",
        "n_hidden_2=256\n",
        "n_hidden_3=128\n",
        "n_hidden_4=64\n",
        "out_dim=10"
      ],
      "metadata": {
        "id": "4ZO7ueWwTBsJ"
      },
      "execution_count": 71,
      "outputs": []
    },
    {
      "cell_type": "code",
      "source": [
        "model=NeuralNetwork(in_dim,n_hidden_1,n_hidden_2,n_hidden_3,n_hidden_4,out_dim)"
      ],
      "metadata": {
        "id": "AdA79zskTWNo"
      },
      "execution_count": 72,
      "outputs": []
    },
    {
      "cell_type": "code",
      "source": [
        "model"
      ],
      "metadata": {
        "colab": {
          "base_uri": "https://localhost:8080/"
        },
        "id": "8l3GGL2kTgny",
        "outputId": "dd78a96b-364e-4ee1-aa07-3f108a3ff145"
      },
      "execution_count": 73,
      "outputs": [
        {
          "output_type": "execute_result",
          "data": {
            "text/plain": [
              "NeuralNetwork(\n",
              "  (layer1): Sequential(\n",
              "    (0): Linear(in_features=784, out_features=512, bias=True)\n",
              "    (1): ReLU(inplace=True)\n",
              "  )\n",
              "  (layer2): Sequential(\n",
              "    (0): Linear(in_features=512, out_features=256, bias=True)\n",
              "    (1): ReLU(inplace=True)\n",
              "  )\n",
              "  (layer3): Sequential(\n",
              "    (0): Linear(in_features=256, out_features=128, bias=True)\n",
              "    (1): ReLU(inplace=True)\n",
              "  )\n",
              "  (layer4): Sequential(\n",
              "    (0): Linear(in_features=128, out_features=64, bias=True)\n",
              "    (1): ReLU(inplace=True)\n",
              "  )\n",
              "  (layer5): Sequential(\n",
              "    (0): Linear(in_features=64, out_features=10, bias=True)\n",
              "    (1): ReLU(inplace=True)\n",
              "  )\n",
              ")"
            ]
          },
          "metadata": {},
          "execution_count": 73
        }
      ]
    },
    {
      "cell_type": "markdown",
      "source": [
        "loss function"
      ],
      "metadata": {
        "id": "2TJsu9IUTvbL"
      }
    },
    {
      "cell_type": "code",
      "source": [
        "learning_rate=1e-3\n",
        "criterion=nn.CrossEntropyLoss()\n",
        "optimizer=torch.optim.Adam(model.parameters(),lr=learning_rate)"
      ],
      "metadata": {
        "id": "6Qm6MYAOTiMd"
      },
      "execution_count": 74,
      "outputs": []
    },
    {
      "cell_type": "markdown",
      "source": [
        "building training loop"
      ],
      "metadata": {
        "id": "ZZr1nvnyUSYt"
      }
    },
    {
      "cell_type": "code",
      "source": [
        "num_epochs=15"
      ],
      "metadata": {
        "id": "YKy5L0hGV1RG"
      },
      "execution_count": 77,
      "outputs": []
    },
    {
      "cell_type": "code",
      "source": [
        "for epoch in range(num_epochs):\n",
        "    print('*' * 10)\n",
        "    print(f'Epoch {epoch + 1}')\n",
        "    running_loss = 0.0\n",
        "    running_acc = 0.0\n",
        "\n",
        "    # Ensure model is on the same device\n",
        "    model = model.to(device)\n",
        "\n",
        "    for i, data in enumerate(train_loader, 1):\n",
        "        img, label = data\n",
        "\n",
        "        # Flatten image tensors if needed\n",
        "        img = img.view(img.size(0), -1)\n",
        "\n",
        "        # Move data to the correct device\n",
        "        img = img.to(device)\n",
        "        label = label.to(device)\n",
        "\n",
        "        # Forward pass\n",
        "        out = model(img)\n",
        "        loss = criterion(out, label)\n",
        "\n",
        "        # Update loss and accuracy\n",
        "        running_loss += loss.item()\n",
        "        _, pred = torch.max(out, 1)\n",
        "        running_acc += (pred == label).float().mean().item()\n",
        "\n",
        "        # Backpropagation\n",
        "        optimizer.zero_grad()\n",
        "        loss.backward()\n",
        "        optimizer.step()\n",
        "\n",
        "        # Log progress every 300 batches\n",
        "        if i % 300 == 0:\n",
        "            print(f'Epoch: {epoch + 1}/{num_epochs}, '\n",
        "                  f'Batch: {i}, '\n",
        "                  f'Loss: {running_loss / i:.6f}, '\n",
        "                  f'Accuracy: {running_acc / i:.6f}')\n",
        "\n",
        "    # Print summary after each epoch\n",
        "    print(f'Finish: Epoch {epoch + 1}, '\n",
        "          f'Loss: {running_loss / i:.6f}, '\n",
        "          f'Accuracy: {running_acc / i:.6f}')\n"
      ],
      "metadata": {
        "colab": {
          "base_uri": "https://localhost:8080/"
        },
        "id": "2uJ-9ownUPM6",
        "outputId": "f4f85c0a-c859-4001-e845-78f8a5bd0ec0"
      },
      "execution_count": 78,
      "outputs": [
        {
          "output_type": "stream",
          "name": "stdout",
          "text": [
            "**********\n",
            "Epoch 1\n",
            "Epoch: 1/15, Batch: 300, Loss: 0.448919, Accuracy: 0.819688\n",
            "Epoch: 1/15, Batch: 600, Loss: 0.451399, Accuracy: 0.820026\n",
            "Epoch: 1/15, Batch: 900, Loss: 0.453005, Accuracy: 0.819392\n",
            "Finish: Epoch 1, Loss: 0.452402, Accuracy: 0.819646\n",
            "**********\n",
            "Epoch 2\n",
            "Epoch: 2/15, Batch: 300, Loss: 0.435016, Accuracy: 0.825729\n",
            "Epoch: 2/15, Batch: 600, Loss: 0.444419, Accuracy: 0.821432\n",
            "Epoch: 2/15, Batch: 900, Loss: 0.443673, Accuracy: 0.821667\n",
            "Finish: Epoch 2, Loss: 0.443650, Accuracy: 0.822012\n",
            "**********\n",
            "Epoch 3\n",
            "Epoch: 3/15, Batch: 300, Loss: 0.426674, Accuracy: 0.830052\n",
            "Epoch: 3/15, Batch: 600, Loss: 0.432238, Accuracy: 0.827292\n",
            "Epoch: 3/15, Batch: 900, Loss: 0.438328, Accuracy: 0.824566\n",
            "Finish: Epoch 3, Loss: 0.437624, Accuracy: 0.824743\n",
            "**********\n",
            "Epoch 4\n",
            "Epoch: 4/15, Batch: 300, Loss: 0.416593, Accuracy: 0.832865\n",
            "Epoch: 4/15, Batch: 600, Loss: 0.423485, Accuracy: 0.829245\n",
            "Epoch: 4/15, Batch: 900, Loss: 0.427851, Accuracy: 0.828021\n",
            "Finish: Epoch 4, Loss: 0.428791, Accuracy: 0.827609\n",
            "**********\n",
            "Epoch 5\n",
            "Epoch: 5/15, Batch: 300, Loss: 0.412259, Accuracy: 0.832917\n",
            "Epoch: 5/15, Batch: 600, Loss: 0.420280, Accuracy: 0.830000\n",
            "Epoch: 5/15, Batch: 900, Loss: 0.422688, Accuracy: 0.829497\n",
            "Finish: Epoch 5, Loss: 0.416103, Accuracy: 0.832689\n",
            "**********\n",
            "Epoch 6\n",
            "Epoch: 6/15, Batch: 300, Loss: 0.193036, Accuracy: 0.929375\n",
            "Epoch: 6/15, Batch: 600, Loss: 0.189296, Accuracy: 0.929375\n",
            "Epoch: 6/15, Batch: 900, Loss: 0.193321, Accuracy: 0.928038\n",
            "Finish: Epoch 6, Loss: 0.193755, Accuracy: 0.927922\n",
            "**********\n",
            "Epoch 7\n",
            "Epoch: 7/15, Batch: 300, Loss: 0.175352, Accuracy: 0.933281\n",
            "Epoch: 7/15, Batch: 600, Loss: 0.174895, Accuracy: 0.934375\n",
            "Epoch: 7/15, Batch: 900, Loss: 0.180799, Accuracy: 0.932222\n",
            "Finish: Epoch 7, Loss: 0.180722, Accuracy: 0.932353\n",
            "**********\n",
            "Epoch 8\n",
            "Epoch: 8/15, Batch: 300, Loss: 0.175359, Accuracy: 0.934844\n",
            "Epoch: 8/15, Batch: 600, Loss: 0.174727, Accuracy: 0.935078\n",
            "Epoch: 8/15, Batch: 900, Loss: 0.177752, Accuracy: 0.933872\n",
            "Finish: Epoch 8, Loss: 0.177688, Accuracy: 0.933835\n",
            "**********\n",
            "Epoch 9\n",
            "Epoch: 9/15, Batch: 300, Loss: 0.165562, Accuracy: 0.936979\n",
            "Epoch: 9/15, Batch: 600, Loss: 0.168137, Accuracy: 0.936068\n",
            "Epoch: 9/15, Batch: 900, Loss: 0.169501, Accuracy: 0.935556\n",
            "Finish: Epoch 9, Loss: 0.169789, Accuracy: 0.935601\n",
            "**********\n",
            "Epoch 10\n",
            "Epoch: 10/15, Batch: 300, Loss: 0.166674, Accuracy: 0.936875\n",
            "Epoch: 10/15, Batch: 600, Loss: 0.165502, Accuracy: 0.937474\n",
            "Epoch: 10/15, Batch: 900, Loss: 0.164865, Accuracy: 0.937760\n",
            "Finish: Epoch 10, Loss: 0.165500, Accuracy: 0.937517\n",
            "**********\n",
            "Epoch 11\n",
            "Epoch: 11/15, Batch: 300, Loss: 0.157552, Accuracy: 0.938542\n",
            "Epoch: 11/15, Batch: 600, Loss: 0.159612, Accuracy: 0.938672\n",
            "Epoch: 11/15, Batch: 900, Loss: 0.158348, Accuracy: 0.939583\n",
            "Finish: Epoch 11, Loss: 0.158051, Accuracy: 0.939616\n",
            "**********\n",
            "Epoch 12\n",
            "Epoch: 12/15, Batch: 300, Loss: 0.143949, Accuracy: 0.945625\n",
            "Epoch: 12/15, Batch: 600, Loss: 0.149934, Accuracy: 0.943229\n",
            "Epoch: 12/15, Batch: 900, Loss: 0.154562, Accuracy: 0.940608\n",
            "Finish: Epoch 12, Loss: 0.155544, Accuracy: 0.940249\n",
            "**********\n",
            "Epoch 13\n",
            "Epoch: 13/15, Batch: 300, Loss: 0.141304, Accuracy: 0.945156\n",
            "Epoch: 13/15, Batch: 600, Loss: 0.143876, Accuracy: 0.944714\n",
            "Epoch: 13/15, Batch: 900, Loss: 0.149649, Accuracy: 0.942274\n",
            "Finish: Epoch 13, Loss: 0.149563, Accuracy: 0.942247\n",
            "**********\n",
            "Epoch 14\n",
            "Epoch: 14/15, Batch: 300, Loss: 0.139774, Accuracy: 0.944792\n",
            "Epoch: 14/15, Batch: 600, Loss: 0.141272, Accuracy: 0.944974\n",
            "Epoch: 14/15, Batch: 900, Loss: 0.144496, Accuracy: 0.943351\n",
            "Finish: Epoch 14, Loss: 0.144887, Accuracy: 0.943563\n",
            "**********\n",
            "Epoch 15\n",
            "Epoch: 15/15, Batch: 300, Loss: 0.136711, Accuracy: 0.948385\n",
            "Epoch: 15/15, Batch: 600, Loss: 0.136096, Accuracy: 0.948724\n",
            "Epoch: 15/15, Batch: 900, Loss: 0.137592, Accuracy: 0.947865\n",
            "Finish: Epoch 15, Loss: 0.137874, Accuracy: 0.947745\n"
          ]
        }
      ]
    },
    {
      "cell_type": "markdown",
      "source": [
        "Eval model performance"
      ],
      "metadata": {
        "id": "ZwbNahJwY-bo"
      }
    },
    {
      "cell_type": "code",
      "source": [
        "model.eval()\n",
        "eval_loss=0.0\n",
        "eval_acc=0.0\n",
        "for data in test_loader:\n",
        "  img,label=data\n",
        "  img=img.view(img.size(0),-1)\n",
        "  img=img.to(device)\n",
        "  label=label.to(device)\n",
        "  with torch.no_grad():\n",
        "    out=model(img)\n",
        "    loss=criterion(out,label)\n",
        "    eval_loss +=loss.item()\n",
        "    _,pred=torch.max(out,1)\n",
        "    eval_acc +=(pred==label).float().mean()\n",
        "print(f\"test_loss:{eval_loss/len(test_loader)}, acc:{eval_acc/len(test_loader)}\")\n"
      ],
      "metadata": {
        "colab": {
          "base_uri": "https://localhost:8080/"
        },
        "id": "cRyw-0vtVig7",
        "outputId": "2752b7b8-05b3-4acd-e4e3-7cb47af4ecb5"
      },
      "execution_count": 79,
      "outputs": [
        {
          "output_type": "stream",
          "name": "stdout",
          "text": [
            "test_loss:0.4125302050642337, acc:0.8871417045593262\n"
          ]
        }
      ]
    },
    {
      "cell_type": "markdown",
      "source": [
        "visualize model prediction\n"
      ],
      "metadata": {
        "id": "m4wJaUVsaczt"
      }
    },
    {
      "cell_type": "code",
      "source": [
        "images,labels=next(iter(test_loader))\n",
        "images = images.reshape(-1,28*28).to(device)\n",
        "labels =labels.to(device)\n",
        "outputs =model(images)\n",
        "_,preddiction =torch.max(outputs,1)\n",
        "fig, ax = plt.subplots(1, 8, figsize=(15, 3)) #The arguments (1, 5) specify that the figure should have 1 row of 5 columns, i.e., 5 subplots aligned horizontally.\n",
        "for i in range(8):\n",
        "    ax[i].imshow(images[i].reshape(28, 28).cpu(), cmap='gray')\n",
        "    ax[i].set_title(f'True: {labels[i].item()}, Pred: {preddiction[i].item()}')\n",
        "    ax[i].axis('off')\n",
        "plt.show()"
      ],
      "metadata": {
        "colab": {
          "base_uri": "https://localhost:8080/",
          "height": 105
        },
        "id": "1RebQCsiaXAz",
        "outputId": "342a4ca7-f8c9-4d65-ab5d-c554a39535b3"
      },
      "execution_count": 89,
      "outputs": [
        {
          "output_type": "display_data",
          "data": {
            "text/plain": [
              "<Figure size 1500x300 with 8 Axes>"
            ],
            "image/png": "[encoded data removed]"
          },
          "metadata": {}
        }
      ]
    },
    {
      "cell_type": "code",
      "source": [],
      "metadata": {
        "id": "mZ1jwoOIbVRc"
      },
      "execution_count": null,
      "outputs": []
    }
  ]
}